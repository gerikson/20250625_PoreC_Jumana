{
 "cells": [
  {
   "cell_type": "markdown",
   "id": "b725a9d2",
   "metadata": {},
   "source": [
    "Extracting cis/trans"
   ]
  },
  {
   "cell_type": "code",
   "execution_count": 2,
   "id": "40da17bb",
   "metadata": {},
   "outputs": [],
   "source": [
    "import sys\n",
    "import gzip\n",
    "import matplotlib.pyplot as plt\n",
    "import numpy as np\n",
    "import cooler\n",
    "import pandas as pd\n",
    "import cooltools"
   ]
  },
  {
   "cell_type": "code",
   "execution_count": null,
   "id": "6a69e66d",
   "metadata": {},
   "outputs": [],
   "source": [
    "def filter_pairs_by_specific_chromosomes(input_file, output_file):\n",
    "    # List of chromosomes to filter\n",
    "    target_chromosomes = [\"2L_mat\",\"2R_mat\", \"3L_mat\", \"3R_mat\", \"2L_pat\", \"2R_pat\", \"3L_pat\", \"3R_pat\",\"2L_trans\", \"2R_trans\", \"3L_trans\", \"3R_trans\"]\n",
    "    buffer = []\n",
    "    \n",
    "    buffer_size = 10000\n",
    "\n",
    "    with gzip.open(input_file, 'rt') as infile, gzip.open(output_file, 'wt') as outfile:\n",
    "        for line in infile:\n",
    "            if line.startswith(\"#\"):  # Process header lines\n",
    "                # Check if the header line starts with any of the target chromosomes\n",
    "                if line.startswith(\"#chromsize\"):\n",
    "                    parts = line.strip().split(\" \")\n",
    "                    if parts[1] in target_chromosomes:\n",
    "                        buffer.append(line)\n",
    "\n",
    "                elif line.startswith(\"#samheader: @SQ\"):\n",
    "                    parts = line.strip().split(\":\")\n",
    "                    parts2 = parts[2].strip().split(\"LN\")\n",
    "                    if parts2[0].strip() in target_chromosomes:\n",
    "                        buffer.append(line)\n",
    "                else:\n",
    "                    buffer.append(line)\n",
    "\n",
    "                outfile.writelines(buffer)\n",
    "                buffer=[]\n",
    "                continue\n",
    "            parts = line.strip().split(\"\\t\")\n",
    "            # Check if both parts[1] and parts[3] are in the target chromosomes list\n",
    "            if parts[1] in target_chromosomes and parts[3] in target_chromosomes:\n",
    "                     \n",
    "                buffer.append(line)\n",
    "      \n",
    "                if len(buffer) >= buffer_size:\n",
    "                    outfile.writelines(buffer)\n",
    "                    buffer=[]\n",
    "        \n",
    "        outfile.writelines(buffer)\n",
    "\n",
    "        \n",
    "        \n",
    "\n",
    "input_file1 = \"/data/alhajabed/FlyHiC/PoreC/20250625_balancedMcools/20250703_24L004895_PnM1.filtCisTrans.pairs.gz\"\n",
    "input_file2 = \"/data/alhajabed/FlyHiC/PoreC/20250625_balancedMcools/20250703_24L004896_PnM2.filtCisTrans.pairs.gz\"\n",
    "input_file3 = \"/data/alhajabed/FlyHiC/PoreC/20250625_balancedMcools/20250703_24L004897_PnM3.filtCisTrans.pairs.gz\"\n",
    "output_file1 = \"/data/alhajabed/FlyHiC/PoreC/20250625_balancedMcools/20250708_24L004895_PnM1.filtCisTrans.ImportantChroms.pairs.gz\"\n",
    "output_file2 = \"/data/alhajabed/FlyHiC/PoreC/20250625_balancedMcools/20250708_24L004896_PnM2.filtCisTrans.ImportantChrom.pairs.gz\"\n",
    "output_file3 = \"/data/alhajabed/FlyHiC/PoreC/20250625_balancedMcools/20250708_24L004897_PnM3.filtCisTrans.ImportantChrom.pairs.gz\"\n",
    "  \n",
    "filter_pairs_by_specific_chromosomes(input_file1, output_file1)\n",
    "filter_pairs_by_specific_chromosomes(input_file2, output_file2)\n",
    "filter_pairs_by_specific_chromosomes(input_file3, output_file3)"
   ]
  }
 ],
 "metadata": {
  "kernelspec": {
   "display_name": "PoreC",
   "language": "python",
   "name": "porec"
  },
  "language_info": {
   "codemirror_mode": {
    "name": "ipython",
    "version": 3
   },
   "file_extension": ".py",
   "mimetype": "text/x-python",
   "name": "python",
   "nbconvert_exporter": "python",
   "pygments_lexer": "ipython3",
   "version": "3.8.19"
  }
 },
 "nbformat": 4,
 "nbformat_minor": 5
}
