{
 "cells": [
  {
   "cell_type": "code",
   "execution_count": null,
   "id": "56afaa5e-97c8-4685-8cc3-60922dd5a17c",
   "metadata": {},
   "outputs": [],
   "source": [
    "import cooler\n",
    "from cooler.cli.zoomify import zoomify_cooler\n",
    "import click\n",
    "\n",
    "# Call the CLI function directly (simulates CLI)\n",
    "zoomify_cooler.callback(\n",
    "    input_path='/data/alhajabed/FlyHiC/PoreC/20250625_balancedMcools/20250403_PnMs_merged_diploidGenome.40kb.cool',\n",
    "    resolutions=(40000,),\n",
    "    balance=True,\n",
    "    balance_kwargs='{\"max_iters\": 1000}',\n",
    "    no_balance=False,\n",
    "    out=None,\n",
    "    nproc=None,\n",
    "    mergebuf=500000000,\n",
    "    chunksize=500000,\n",
    "    temp_dir=None,\n",
    "    keep_temp=False,\n",
    ")\n"
   ]
  }
 ],
 "metadata": {
  "kernelspec": {
   "display_name": "PoreC",
   "language": "python",
   "name": "porec"
  },
  "language_info": {
   "codemirror_mode": {
    "name": "ipython",
    "version": 3
   },
   "file_extension": ".py",
   "mimetype": "text/x-python",
   "name": "python",
   "nbconvert_exporter": "python",
   "pygments_lexer": "ipython3",
   "version": "3.8.19"
  }
 },
 "nbformat": 4,
 "nbformat_minor": 5
}
