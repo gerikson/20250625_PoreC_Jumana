{
 "cells": [
  {
   "cell_type": "code",
   "execution_count": null,
   "id": "aed93281-7175-45c8-a69e-cf965123b0fb",
   "metadata": {},
   "outputs": [],
   "source": []
  }
 ],
 "metadata": {
  "kernelspec": {
   "display_name": "PoreC",
   "language": "python",
   "name": "porec"
  },
  "language_info": {
   "codemirror_mode": {
    "name": "ipython",
    "version": 3
   },
   "file_extension": ".py",
   "mimetype": "text/x-python",
   "name": "python",
   "nbconvert_exporter": "python",
   "pygments_lexer": "ipython3",
   "version": "3.8.19"
  }
 },
 "nbformat": 4,
 "nbformat_minor": 5
}
