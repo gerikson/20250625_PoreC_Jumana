{
 "cells": [
  {
   "cell_type": "code",
   "execution_count": 2,
   "id": "c5454703",
   "metadata": {},
   "outputs": [],
   "source": [
    "import sys\n",
    "import gzip\n",
    "import matplotlib.pyplot as plt\n",
    "import numpy as np\n",
    "import cooler\n",
    "import pandas as pd\n",
    "import cooltools"
   ]
  },
  {
   "cell_type": "markdown",
   "id": "15ada68d",
   "metadata": {},
   "source": [
    "Merge the pairs files, keep only the \"important\" chromosomes and only one header"
   ]
  },
  {
   "cell_type": "code",
   "execution_count": 3,
   "id": "5e57dabf",
   "metadata": {},
   "outputs": [],
   "source": [
    "\n",
    "def filter_pairs_by_specific_chromosomes(input_file, output_file):\n",
    "    # List of chromosomes to filter\n",
    "    target_chromosomes = [\"2L_JJg14_439\",\"2R_JJg14_439\", \"3L_JJg14_439\", \"3R_JJg14_439\", \"4_JJg14_439\", \"X_JJg14_439\", \"Y_JJg14_439\", \"2L_JJg14_057\", \"2R_JJg14_057\", \"3L_JJg14_057\", \"3R_JJg14_057\", \"4_JJg14_057\", \"X_JJg14_057\", \"Y_JJg14_057\"]\n",
    "    buffer = []\n",
    "    \n",
    "    buffer_size = 10000\n",
    "\n",
    "    with gzip.open(input_file, 'rt') as infile, gzip.open(output_file, 'at') as outfile:\n",
    "        for line in infile:\n",
    "            #keep only one header and append the other 2 files without the header\n",
    "            if line.startswith(\"#\") and input_file == \"/data/alhajabed/FlyHiC/PoreC/20250625_balancedMcools/24L004895_PnM1.pairs.gz\":  # Process header lines\n",
    "                # Check if the header line starts with any of the target chromosomes\n",
    "                if line.startswith(\"#chromsize\"):\n",
    "                    parts = line.strip().split(\" \")\n",
    "                    if parts[1] in target_chromosomes:\n",
    "                        #create a new chromosome trans and add it to the header\n",
    "                        buffer.append(line)\n",
    "                elif line.startswith(\"#samheader: @SQ\"):\n",
    "                    parts = line.strip().split(\":\")\n",
    "                    parts2 = parts[2].strip().split(\"LN\")\n",
    "                    if parts2[0].strip() in target_chromosomes:\n",
    "                        buffer.append(line)\n",
    "                else:\n",
    "                    buffer.append(line)\n",
    "\n",
    "                outfile.writelines(buffer)\n",
    "                buffer=[]\n",
    "                continue\n",
    "            elif line.startswith(\"#\"):\n",
    "                continue\n",
    "            parts = line.strip().split(\"\\t\")\n",
    "            # Check if both parts[1] and parts[3] are in the target chromosomes list\n",
    "            if parts[1] in target_chromosomes and parts[3] in target_chromosomes:\n",
    "\n",
    "                buffer.append(line)\n",
    "      \n",
    "                if len(buffer) >= buffer_size:\n",
    "                    outfile.writelines(buffer)\n",
    "                    buffer=[]\n",
    "\n",
    "        \n",
    "        \n",
    "input_file1 = \"/data/alhajabed/FlyHiC/PoreC/20250625_balancedMcools/24L004895_PnM1.pairs.gz\"\n",
    "input_file2 = \"/data/alhajabed/FlyHiC/PoreC/20250625_balancedMcools/24L004896_PnM2.pairs.gz\"\n",
    "input_file3 = \"/data/alhajabed/FlyHiC/PoreC/20250625_balancedMcools/24L004897_PnM3.pairs.gz\"\n",
    "output = \"/data/alhajabed/FlyHiC/PoreC/20250625_balancedMcools/20250727_merged_PnMs.filt.pairs.gz\"\n",
    "\n",
    "  \n",
    "filter_pairs_by_specific_chromosomes(input_file1, output)\n",
    "filter_pairs_by_specific_chromosomes(input_file2, output)\n",
    "filter_pairs_by_specific_chromosomes(input_file3, output)\n"
   ]
  },
  {
   "cell_type": "markdown",
   "id": "bbd04f75",
   "metadata": {},
   "source": [
    "Pairs too cooler:\n",
    "\n",
    "(PoreC) erikson@deep22:/data/alhajabed/FlyHiC/PoreC/20250625_balancedMcools$ cooler cload pairs -c1 2 -p1 3 -c2 4 -p2 5 /data/alhajabed/FlyHiC/PoreC/20250625_balancedMcools/diploid_genome.importantChroms.chromsizes:1000 20250727_merged_PnMs.filt.pairs.gz 20250727_merged_PnMs.filt.pairs.cool"
   ]
  },
  {
   "cell_type": "markdown",
   "id": "6034f409",
   "metadata": {},
   "source": [
    "scalings can be calculated from raw, unbalanced coolers\n",
    "\n",
    "Reading in the pairs file again and converting the chromosomes to 2R or 2R_trans etc"
   ]
  },
  {
   "cell_type": "code",
   "execution_count": 6,
   "id": "1c6bf6b2",
   "metadata": {},
   "outputs": [],
   "source": [
    "def filter_pairs_by_specific_chromosomes(input_file, output_file):\n",
    "    # List of chromosomes to filter\n",
    "    buffer = []\n",
    "    \n",
    "    buffer_size = 10000\n",
    "\n",
    "    with gzip.open(input_file, 'rt') as infile, gzip.open(output_file, 'wt') as outfile:\n",
    "        for line in infile:\n",
    "            if line.startswith(\"#\"):  # Process header lines\n",
    "                # Check if the header line starts with any of the target chromosomes\n",
    "                if line.startswith(\"#chromsize\"):\n",
    "                    parts = line.strip().split(\" \")\n",
    "                    #create a new chromosome trans and add it to the header\n",
    "                    line = line.replace(\"_JJg14_057\", \"_trans\")\n",
    "                    line = line.replace(\"_JJg14_439\", \"_trans\")\n",
    "                    buffer.append(line)\n",
    "                    #and then replace trans with nothing and add the sis chromosomes to header\n",
    "                    line = line.replace(\"_trans\", \"\")\n",
    "                    buffer.append(line)\n",
    "                    continue\n",
    "                elif line.startswith(\"#samheader: @SQ\"):\n",
    "                    parts = line.strip().split(\":\")\n",
    "                    parts2 = parts[2].strip().split(\"LN\")\n",
    "                    line = line.replace(\"_JJg14_057\", \"_trans\")\n",
    "                    line = line.replace(\"_JJg14_439\", \"_trans\")\n",
    "                    buffer.append(line)\n",
    "                    line = line.replace(\"_trans\", \"\")\n",
    "                    buffer.append(line)\n",
    "                    continue\n",
    "                else:\n",
    "                    buffer.append(line)\n",
    "                    continue\n",
    "\n",
    "            parts = line.strip().split(\"\\t\")\n",
    "                \n",
    "            if parts[1] == parts[3]:\n",
    "                line = line.replace(\"_JJg14_057\", \"\")\n",
    "                line = line.replace(\"_JJg14_439\", \"\")\n",
    "            else:\n",
    "                line = line.replace(\"_JJg14_057\", \"_trans\")\n",
    "                line = line.replace(\"_JJg14_439\", \"_trans\")\n",
    "            \n",
    "            buffer.append(line)\n",
    "    \n",
    "            if len(buffer) >= buffer_size:\n",
    "                outfile.writelines(buffer)\n",
    "                buffer=[]\n",
    "\n",
    "        outfile.writelines(buffer)\n",
    "\n",
    "\n",
    "        \n",
    "        \n",
    "input_file = \"/data/alhajabed/FlyHiC/PoreC/20250625_balancedMcools/20250727_merged_PnMs.filt.pairs.gz\"\n",
    "output_file = \"/data/alhajabed/FlyHiC/PoreC/20250625_balancedMcools/20250729_merged_PnMs.filtCisTrans.pairs.gz\"\n",
    "\n",
    "  \n",
    "filter_pairs_by_specific_chromosomes(input_file, output_file)\n"
   ]
  },
  {
   "cell_type": "markdown",
   "id": "7753ec7e",
   "metadata": {},
   "source": [
    "Pairs to cool:\n",
    "\n",
    "(PoreC) erikson@deep22:/data/alhajabed/FlyHiC/PoreC/20250625_balancedMcools$ cooler cload pairs -c1 2 -p1 3 -c2 4 -p2 5 /data/alhajabed/FlyHiC/PoreC/20250625_balancedMcools/dm6_genome.reduced.chromsizes.reduced:1000 20250729_merged_PnMs.filtCisTrans.pairs.gz 20250729_merged_PnMs.filtCisTrans.pairs.cool\n"
   ]
  },
  {
   "cell_type": "code",
   "execution_count": null,
   "id": "f9fbc4c9",
   "metadata": {},
   "outputs": [
    {
     "name": "stderr",
     "output_type": "stream",
     "text": [
      "INFO:root:creating a Pool of 2 workers\n"
     ]
    },
    {
     "ename": "KeyError",
     "evalue": "'balanced.avg.smoothed'",
     "output_type": "error",
     "traceback": [
      "\u001b[0;31m---------------------------------------------------------------------------\u001b[0m",
      "\u001b[0;31mKeyError\u001b[0m                                  Traceback (most recent call last)",
      "File \u001b[0;32m/localenv/erikson/anaconda/envs/PoreC/lib/python3.8/site-packages/pandas/core/indexes/base.py:3653\u001b[0m, in \u001b[0;36mIndex.get_loc\u001b[0;34m(self, key)\u001b[0m\n\u001b[1;32m   3652\u001b[0m \u001b[38;5;28;01mtry\u001b[39;00m:\n\u001b[0;32m-> 3653\u001b[0m     \u001b[38;5;28;01mreturn\u001b[39;00m \u001b[38;5;28;43mself\u001b[39;49m\u001b[38;5;241;43m.\u001b[39;49m\u001b[43m_engine\u001b[49m\u001b[38;5;241;43m.\u001b[39;49m\u001b[43mget_loc\u001b[49m\u001b[43m(\u001b[49m\u001b[43mcasted_key\u001b[49m\u001b[43m)\u001b[49m\n\u001b[1;32m   3654\u001b[0m \u001b[38;5;28;01mexcept\u001b[39;00m \u001b[38;5;167;01mKeyError\u001b[39;00m \u001b[38;5;28;01mas\u001b[39;00m err:\n",
      "File \u001b[0;32m/localenv/erikson/anaconda/envs/PoreC/lib/python3.8/site-packages/pandas/_libs/index.pyx:147\u001b[0m, in \u001b[0;36mpandas._libs.index.IndexEngine.get_loc\u001b[0;34m()\u001b[0m\n",
      "File \u001b[0;32m/localenv/erikson/anaconda/envs/PoreC/lib/python3.8/site-packages/pandas/_libs/index.pyx:176\u001b[0m, in \u001b[0;36mpandas._libs.index.IndexEngine.get_loc\u001b[0;34m()\u001b[0m\n",
      "File \u001b[0;32mpandas/_libs/hashtable_class_helper.pxi:7080\u001b[0m, in \u001b[0;36mpandas._libs.hashtable.PyObjectHashTable.get_item\u001b[0;34m()\u001b[0m\n",
      "File \u001b[0;32mpandas/_libs/hashtable_class_helper.pxi:7088\u001b[0m, in \u001b[0;36mpandas._libs.hashtable.PyObjectHashTable.get_item\u001b[0;34m()\u001b[0m\n",
      "\u001b[0;31mKeyError\u001b[0m: 'balanced.avg.smoothed'",
      "\nThe above exception was the direct cause of the following exception:\n",
      "\u001b[0;31mKeyError\u001b[0m                                  Traceback (most recent call last)",
      "Cell \u001b[0;32mIn[10], line 18\u001b[0m\n\u001b[1;32m      7\u001b[0m cvd_smooth_agg \u001b[38;5;241m=\u001b[39m cooltools\u001b[38;5;241m.\u001b[39mexpected_cis(\n\u001b[1;32m      8\u001b[0m     clr\u001b[38;5;241m=\u001b[39mclr,\n\u001b[1;32m      9\u001b[0m     view_df\u001b[38;5;241m=\u001b[39m\u001b[38;5;28;01mNone\u001b[39;00m,\n\u001b[0;32m   (...)\u001b[0m\n\u001b[1;32m     14\u001b[0m     clr_weight_name\u001b[38;5;241m=\u001b[39m\u001b[38;5;28;01mNone\u001b[39;00m\n\u001b[1;32m     15\u001b[0m     )\n\u001b[1;32m     17\u001b[0m \u001b[38;5;66;03m# filter short distances\u001b[39;00m\n\u001b[0;32m---> 18\u001b[0m \u001b[43mcvd_smooth_agg\u001b[49m\u001b[43m[\u001b[49m\u001b[38;5;124;43m'\u001b[39;49m\u001b[38;5;124;43mbalanced.avg.smoothed\u001b[39;49m\u001b[38;5;124;43m'\u001b[39;49m\u001b[43m]\u001b[49m\u001b[38;5;241m.\u001b[39mloc[cvd_smooth_agg[\u001b[38;5;124m'\u001b[39m\u001b[38;5;124mdist\u001b[39m\u001b[38;5;124m'\u001b[39m] \u001b[38;5;241m<\u001b[39m \u001b[38;5;241m2\u001b[39m] \u001b[38;5;241m=\u001b[39m np\u001b[38;5;241m.\u001b[39mnan\n\u001b[1;32m     20\u001b[0m \u001b[38;5;66;03m# plot\u001b[39;00m\n\u001b[1;32m     21\u001b[0m fig, ax \u001b[38;5;241m=\u001b[39m plt\u001b[38;5;241m.\u001b[39msubplots(\u001b[38;5;241m1\u001b[39m,\u001b[38;5;241m1\u001b[39m)\n",
      "File \u001b[0;32m/localenv/erikson/anaconda/envs/PoreC/lib/python3.8/site-packages/pandas/core/frame.py:3761\u001b[0m, in \u001b[0;36mDataFrame.__getitem__\u001b[0;34m(self, key)\u001b[0m\n\u001b[1;32m   3759\u001b[0m \u001b[38;5;28;01mif\u001b[39;00m \u001b[38;5;28mself\u001b[39m\u001b[38;5;241m.\u001b[39mcolumns\u001b[38;5;241m.\u001b[39mnlevels \u001b[38;5;241m>\u001b[39m \u001b[38;5;241m1\u001b[39m:\n\u001b[1;32m   3760\u001b[0m     \u001b[38;5;28;01mreturn\u001b[39;00m \u001b[38;5;28mself\u001b[39m\u001b[38;5;241m.\u001b[39m_getitem_multilevel(key)\n\u001b[0;32m-> 3761\u001b[0m indexer \u001b[38;5;241m=\u001b[39m \u001b[38;5;28;43mself\u001b[39;49m\u001b[38;5;241;43m.\u001b[39;49m\u001b[43mcolumns\u001b[49m\u001b[38;5;241;43m.\u001b[39;49m\u001b[43mget_loc\u001b[49m\u001b[43m(\u001b[49m\u001b[43mkey\u001b[49m\u001b[43m)\u001b[49m\n\u001b[1;32m   3762\u001b[0m \u001b[38;5;28;01mif\u001b[39;00m is_integer(indexer):\n\u001b[1;32m   3763\u001b[0m     indexer \u001b[38;5;241m=\u001b[39m [indexer]\n",
      "File \u001b[0;32m/localenv/erikson/anaconda/envs/PoreC/lib/python3.8/site-packages/pandas/core/indexes/base.py:3655\u001b[0m, in \u001b[0;36mIndex.get_loc\u001b[0;34m(self, key)\u001b[0m\n\u001b[1;32m   3653\u001b[0m     \u001b[38;5;28;01mreturn\u001b[39;00m \u001b[38;5;28mself\u001b[39m\u001b[38;5;241m.\u001b[39m_engine\u001b[38;5;241m.\u001b[39mget_loc(casted_key)\n\u001b[1;32m   3654\u001b[0m \u001b[38;5;28;01mexcept\u001b[39;00m \u001b[38;5;167;01mKeyError\u001b[39;00m \u001b[38;5;28;01mas\u001b[39;00m err:\n\u001b[0;32m-> 3655\u001b[0m     \u001b[38;5;28;01mraise\u001b[39;00m \u001b[38;5;167;01mKeyError\u001b[39;00m(key) \u001b[38;5;28;01mfrom\u001b[39;00m\u001b[38;5;250m \u001b[39m\u001b[38;5;21;01merr\u001b[39;00m\n\u001b[1;32m   3656\u001b[0m \u001b[38;5;28;01mexcept\u001b[39;00m \u001b[38;5;167;01mTypeError\u001b[39;00m:\n\u001b[1;32m   3657\u001b[0m     \u001b[38;5;66;03m# If we have a listlike key, _check_indexing_error will raise\u001b[39;00m\n\u001b[1;32m   3658\u001b[0m     \u001b[38;5;66;03m#  InvalidIndexError. Otherwise we fall through and re-raise\u001b[39;00m\n\u001b[1;32m   3659\u001b[0m     \u001b[38;5;66;03m#  the TypeError.\u001b[39;00m\n\u001b[1;32m   3660\u001b[0m     \u001b[38;5;28mself\u001b[39m\u001b[38;5;241m.\u001b[39m_check_indexing_error(key)\n",
      "\u001b[0;31mKeyError\u001b[0m: 'balanced.avg.smoothed'"
     ]
    }
   ],
   "source": [
    "chromsizes_path = \"/data/alhajabed/FlyHiC/PoreC/20250625_balancedMcools/dm6_genome.reduced.chromsizes.reduced\"\n",
    "chromsizes = pd.read_csv(chromsizes_path, sep=\"\\t\", header=None, names=[\"chrom\", \"size\"])\n",
    "\n",
    "clr = cooler.Cooler(\"/data/alhajabed/FlyHiC/PoreC/20250625_balancedMcools/20250729_merged_PnMs.filtCisTrans.pairs.cool\")\n",
    "\n",
    "# compute P(s) curves\n",
    "cvd_smooth_agg = cooltools.expected_cis(\n",
    "    clr=clr,\n",
    "    view_df=None,\n",
    "    smooth=True,\n",
    "    aggregate_smoothed=True,\n",
    "    smooth_sigma=0.1,\n",
    "    nproc=2,\n",
    "    clr_weight_name=None\n",
    "    )\n",
    "\n",
    "# filter short distances\n",
    "#cvd_smooth_agg['balanced.avg.smoothed'].loc[cvd_smooth_agg['dist'] < 2] = np.nan\n",
    "\n",
    "# plot\n",
    "fig, ax = plt.subplots(1,1)\n",
    "\n",
    "for region in chromsizes['chrom']:\n",
    "    ax.loglog(\n",
    "        cvd_smooth_agg['dist_bp'].loc[cvd_smooth_agg['region1']==region],\n",
    "        cvd_smooth_agg['balanced.avg.smoothed'].loc[cvd_smooth_agg['region1']==region],\n",
    "    )\n",
    "    ax.set(\n",
    "        xlabel='separation, bp',\n",
    "        ylabel='IC contact frequency')\n",
    "    ax.set_aspect(1.0)\n",
    "    ax.grid(lw=0.5)\n",
    "\n",
    "ax.legend(chromsizes['chrom'], loc='upper right')"
   ]
  }
 ],
 "metadata": {
  "kernelspec": {
   "display_name": "PoreC",
   "language": "python",
   "name": "porec"
  },
  "language_info": {
   "codemirror_mode": {
    "name": "ipython",
    "version": 3
   },
   "file_extension": ".py",
   "mimetype": "text/x-python",
   "name": "python",
   "nbconvert_exporter": "python",
   "pygments_lexer": "ipython3",
   "version": "3.8.19"
  }
 },
 "nbformat": 4,
 "nbformat_minor": 5
}
